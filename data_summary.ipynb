{
 "cells": [
  {
   "cell_type": "code",
   "execution_count": 2,
   "metadata": {},
   "outputs": [],
   "source": [
    "import pandas as pd"
   ]
  },
  {
   "cell_type": "markdown",
   "metadata": {},
   "source": [
    "# we import the data using pandas.read_csv"
   ]
  },
  {
   "cell_type": "code",
   "execution_count": 3,
   "metadata": {},
   "outputs": [],
   "source": [
    "df=pd.read_csv(\"Dataset.csv\",parse_dates=['Sampling date'])"
   ]
  },
  {
   "cell_type": "markdown",
   "metadata": {},
   "source": [
    "# we display first 20 rows of the dataset"
   ]
  },
  {
   "cell_type": "code",
   "execution_count": 4,
   "metadata": {},
   "outputs": [
    {
     "data": {
      "text/html": [
       "<div>\n",
       "<style scoped>\n",
       "    .dataframe tbody tr th:only-of-type {\n",
       "        vertical-align: middle;\n",
       "    }\n",
       "\n",
       "    .dataframe tbody tr th {\n",
       "        vertical-align: top;\n",
       "    }\n",
       "\n",
       "    .dataframe thead th {\n",
       "        text-align: right;\n",
       "    }\n",
       "</style>\n",
       "<table border=\"1\" class=\"dataframe\">\n",
       "  <thead>\n",
       "    <tr style=\"text-align: right;\">\n",
       "      <th></th>\n",
       "      <th>Crop</th>\n",
       "      <th>Sampling date</th>\n",
       "      <th>Plot No.</th>\n",
       "      <th>Irrigation Status</th>\n",
       "      <th>Treatments</th>\n",
       "      <th>Trmt No.</th>\n",
       "      <th>Tillage</th>\n",
       "      <th>Residue</th>\n",
       "      <th>Irrigation</th>\n",
       "      <th>Soil depth (cm)</th>\n",
       "      <th>Ece (dS/m)</th>\n",
       "    </tr>\n",
       "  </thead>\n",
       "  <tbody>\n",
       "    <tr>\n",
       "      <td>0</td>\n",
       "      <td>Rice</td>\n",
       "      <td>2008-06-13</td>\n",
       "      <td>221</td>\n",
       "      <td>BI</td>\n",
       "      <td>ZT_R_25</td>\n",
       "      <td>4</td>\n",
       "      <td>2</td>\n",
       "      <td>1</td>\n",
       "      <td>1</td>\n",
       "      <td>10.0</td>\n",
       "      <td>4.483</td>\n",
       "    </tr>\n",
       "    <tr>\n",
       "      <td>1</td>\n",
       "      <td>Rice</td>\n",
       "      <td>2008-06-13</td>\n",
       "      <td>221</td>\n",
       "      <td>BI</td>\n",
       "      <td>ZT_R_25</td>\n",
       "      <td>4</td>\n",
       "      <td>2</td>\n",
       "      <td>1</td>\n",
       "      <td>1</td>\n",
       "      <td>10.0</td>\n",
       "      <td>3.554</td>\n",
       "    </tr>\n",
       "    <tr>\n",
       "      <td>2</td>\n",
       "      <td>Rice</td>\n",
       "      <td>2008-06-13</td>\n",
       "      <td>221</td>\n",
       "      <td>BI</td>\n",
       "      <td>ZT_R_25</td>\n",
       "      <td>4</td>\n",
       "      <td>2</td>\n",
       "      <td>1</td>\n",
       "      <td>1</td>\n",
       "      <td>20.0</td>\n",
       "      <td>1.837</td>\n",
       "    </tr>\n",
       "    <tr>\n",
       "      <td>3</td>\n",
       "      <td>Rice</td>\n",
       "      <td>2008-06-13</td>\n",
       "      <td>221</td>\n",
       "      <td>BI</td>\n",
       "      <td>ZT_R_25</td>\n",
       "      <td>4</td>\n",
       "      <td>2</td>\n",
       "      <td>1</td>\n",
       "      <td>1</td>\n",
       "      <td>30.0</td>\n",
       "      <td>1.433</td>\n",
       "    </tr>\n",
       "    <tr>\n",
       "      <td>4</td>\n",
       "      <td>Rice</td>\n",
       "      <td>2008-06-13</td>\n",
       "      <td>221</td>\n",
       "      <td>BI</td>\n",
       "      <td>ZT_R_25</td>\n",
       "      <td>4</td>\n",
       "      <td>2</td>\n",
       "      <td>1</td>\n",
       "      <td>1</td>\n",
       "      <td>50.0</td>\n",
       "      <td>1.574</td>\n",
       "    </tr>\n",
       "    <tr>\n",
       "      <td>5</td>\n",
       "      <td>Rice</td>\n",
       "      <td>2008-06-13</td>\n",
       "      <td>221</td>\n",
       "      <td>BI</td>\n",
       "      <td>ZT_R_25</td>\n",
       "      <td>4</td>\n",
       "      <td>2</td>\n",
       "      <td>1</td>\n",
       "      <td>1</td>\n",
       "      <td>80.0</td>\n",
       "      <td>3.473</td>\n",
       "    </tr>\n",
       "    <tr>\n",
       "      <td>6</td>\n",
       "      <td>Rice</td>\n",
       "      <td>2008-06-13</td>\n",
       "      <td>221</td>\n",
       "      <td>BI</td>\n",
       "      <td>ZT_R_25</td>\n",
       "      <td>4</td>\n",
       "      <td>2</td>\n",
       "      <td>1</td>\n",
       "      <td>1</td>\n",
       "      <td>NaN</td>\n",
       "      <td>1.897</td>\n",
       "    </tr>\n",
       "    <tr>\n",
       "      <td>7</td>\n",
       "      <td>Rice</td>\n",
       "      <td>2008-06-13</td>\n",
       "      <td>113</td>\n",
       "      <td>BI</td>\n",
       "      <td>BP_R_100</td>\n",
       "      <td>3</td>\n",
       "      <td>1</td>\n",
       "      <td>3</td>\n",
       "      <td>1</td>\n",
       "      <td>10.0</td>\n",
       "      <td>5.463</td>\n",
       "    </tr>\n",
       "    <tr>\n",
       "      <td>8</td>\n",
       "      <td>Rice</td>\n",
       "      <td>2008-06-13</td>\n",
       "      <td>113</td>\n",
       "      <td>BI</td>\n",
       "      <td>BP_R_100</td>\n",
       "      <td>3</td>\n",
       "      <td>1</td>\n",
       "      <td>3</td>\n",
       "      <td>1</td>\n",
       "      <td>20.0</td>\n",
       "      <td>3.554</td>\n",
       "    </tr>\n",
       "    <tr>\n",
       "      <td>9</td>\n",
       "      <td>Rice</td>\n",
       "      <td>2008-06-13</td>\n",
       "      <td>113</td>\n",
       "      <td>BI</td>\n",
       "      <td>BP_R_100</td>\n",
       "      <td>3</td>\n",
       "      <td>1</td>\n",
       "      <td>3</td>\n",
       "      <td>1</td>\n",
       "      <td>30.0</td>\n",
       "      <td>4.968</td>\n",
       "    </tr>\n",
       "    <tr>\n",
       "      <td>10</td>\n",
       "      <td>Rice</td>\n",
       "      <td>2008-06-13</td>\n",
       "      <td>113</td>\n",
       "      <td>BI</td>\n",
       "      <td>BP_R_100</td>\n",
       "      <td>3</td>\n",
       "      <td>1</td>\n",
       "      <td>3</td>\n",
       "      <td>1</td>\n",
       "      <td>50.0</td>\n",
       "      <td>3.433</td>\n",
       "    </tr>\n",
       "    <tr>\n",
       "      <td>11</td>\n",
       "      <td>Rice</td>\n",
       "      <td>2008-06-13</td>\n",
       "      <td>113</td>\n",
       "      <td>BI</td>\n",
       "      <td>BP_R_100</td>\n",
       "      <td>3</td>\n",
       "      <td>1</td>\n",
       "      <td>3</td>\n",
       "      <td>1</td>\n",
       "      <td>80.0</td>\n",
       "      <td>2.423</td>\n",
       "    </tr>\n",
       "    <tr>\n",
       "      <td>12</td>\n",
       "      <td>Rice</td>\n",
       "      <td>2008-06-13</td>\n",
       "      <td>113</td>\n",
       "      <td>BI</td>\n",
       "      <td>BP_R_100</td>\n",
       "      <td>3</td>\n",
       "      <td>1</td>\n",
       "      <td>3</td>\n",
       "      <td>1</td>\n",
       "      <td>NaN</td>\n",
       "      <td>1.271</td>\n",
       "    </tr>\n",
       "    <tr>\n",
       "      <td>13</td>\n",
       "      <td>Rice</td>\n",
       "      <td>2008-06-13</td>\n",
       "      <td>113</td>\n",
       "      <td>BI</td>\n",
       "      <td>BP_R_100</td>\n",
       "      <td>3</td>\n",
       "      <td>1</td>\n",
       "      <td>3</td>\n",
       "      <td>1</td>\n",
       "      <td>10.0</td>\n",
       "      <td>11.270</td>\n",
       "    </tr>\n",
       "    <tr>\n",
       "      <td>14</td>\n",
       "      <td>Rice</td>\n",
       "      <td>2008-06-13</td>\n",
       "      <td>113</td>\n",
       "      <td>BI</td>\n",
       "      <td>BP_R_100</td>\n",
       "      <td>3</td>\n",
       "      <td>1</td>\n",
       "      <td>3</td>\n",
       "      <td>1</td>\n",
       "      <td>10.0</td>\n",
       "      <td>5.109</td>\n",
       "    </tr>\n",
       "    <tr>\n",
       "      <td>15</td>\n",
       "      <td>Rice</td>\n",
       "      <td>2008-06-13</td>\n",
       "      <td>113</td>\n",
       "      <td>BI</td>\n",
       "      <td>BP_R_100</td>\n",
       "      <td>3</td>\n",
       "      <td>1</td>\n",
       "      <td>3</td>\n",
       "      <td>1</td>\n",
       "      <td>20.0</td>\n",
       "      <td>3.029</td>\n",
       "    </tr>\n",
       "    <tr>\n",
       "      <td>16</td>\n",
       "      <td>Rice</td>\n",
       "      <td>2008-06-13</td>\n",
       "      <td>113</td>\n",
       "      <td>BI</td>\n",
       "      <td>BP_R_100</td>\n",
       "      <td>3</td>\n",
       "      <td>1</td>\n",
       "      <td>3</td>\n",
       "      <td>1</td>\n",
       "      <td>30.0</td>\n",
       "      <td>3.433</td>\n",
       "    </tr>\n",
       "    <tr>\n",
       "      <td>17</td>\n",
       "      <td>Rice</td>\n",
       "      <td>2008-06-13</td>\n",
       "      <td>111</td>\n",
       "      <td>BI</td>\n",
       "      <td>BP_R_25</td>\n",
       "      <td>1</td>\n",
       "      <td>1</td>\n",
       "      <td>1</td>\n",
       "      <td>1</td>\n",
       "      <td>10.0</td>\n",
       "      <td>6.503</td>\n",
       "    </tr>\n",
       "    <tr>\n",
       "      <td>18</td>\n",
       "      <td>Rice</td>\n",
       "      <td>2008-06-13</td>\n",
       "      <td>111</td>\n",
       "      <td>BI</td>\n",
       "      <td>BP_R_25</td>\n",
       "      <td>1</td>\n",
       "      <td>1</td>\n",
       "      <td>1</td>\n",
       "      <td>1</td>\n",
       "      <td>20.0</td>\n",
       "      <td>12.624</td>\n",
       "    </tr>\n",
       "    <tr>\n",
       "      <td>19</td>\n",
       "      <td>Rice</td>\n",
       "      <td>2008-06-13</td>\n",
       "      <td>111</td>\n",
       "      <td>BI</td>\n",
       "      <td>BP_R_25</td>\n",
       "      <td>1</td>\n",
       "      <td>1</td>\n",
       "      <td>1</td>\n",
       "      <td>1</td>\n",
       "      <td>30.0</td>\n",
       "      <td>4.180</td>\n",
       "    </tr>\n",
       "  </tbody>\n",
       "</table>\n",
       "</div>"
      ],
      "text/plain": [
       "   Crop  Sampling date  Plot No. Irrigation Status Treatments  Trmt No.  \\\n",
       "0   Rice    2008-06-13       221                BI    ZT_R_25         4   \n",
       "1   Rice    2008-06-13       221                BI    ZT_R_25         4   \n",
       "2   Rice    2008-06-13       221                BI    ZT_R_25         4   \n",
       "3   Rice    2008-06-13       221                BI    ZT_R_25         4   \n",
       "4   Rice    2008-06-13       221                BI    ZT_R_25         4   \n",
       "5   Rice    2008-06-13       221                BI    ZT_R_25         4   \n",
       "6   Rice    2008-06-13       221                BI    ZT_R_25         4   \n",
       "7   Rice    2008-06-13       113                BI   BP_R_100         3   \n",
       "8   Rice    2008-06-13       113                BI   BP_R_100         3   \n",
       "9   Rice    2008-06-13       113                BI   BP_R_100         3   \n",
       "10  Rice    2008-06-13       113                BI   BP_R_100         3   \n",
       "11  Rice    2008-06-13       113                BI   BP_R_100         3   \n",
       "12  Rice    2008-06-13       113                BI   BP_R_100         3   \n",
       "13  Rice    2008-06-13       113                BI   BP_R_100         3   \n",
       "14  Rice    2008-06-13       113                BI   BP_R_100         3   \n",
       "15  Rice    2008-06-13       113                BI   BP_R_100         3   \n",
       "16  Rice    2008-06-13       113                BI   BP_R_100         3   \n",
       "17  Rice    2008-06-13       111                BI    BP_R_25         1   \n",
       "18  Rice    2008-06-13       111                BI    BP_R_25         1   \n",
       "19  Rice    2008-06-13       111                BI    BP_R_25         1   \n",
       "\n",
       "    Tillage  Residue  Irrigation  Soil depth (cm)  Ece (dS/m)  \n",
       "0         2        1           1             10.0       4.483  \n",
       "1         2        1           1             10.0       3.554  \n",
       "2         2        1           1             20.0       1.837  \n",
       "3         2        1           1             30.0       1.433  \n",
       "4         2        1           1             50.0       1.574  \n",
       "5         2        1           1             80.0       3.473  \n",
       "6         2        1           1              NaN       1.897  \n",
       "7         1        3           1             10.0       5.463  \n",
       "8         1        3           1             20.0       3.554  \n",
       "9         1        3           1             30.0       4.968  \n",
       "10        1        3           1             50.0       3.433  \n",
       "11        1        3           1             80.0       2.423  \n",
       "12        1        3           1              NaN       1.271  \n",
       "13        1        3           1             10.0      11.270  \n",
       "14        1        3           1             10.0       5.109  \n",
       "15        1        3           1             20.0       3.029  \n",
       "16        1        3           1             30.0       3.433  \n",
       "17        1        1           1             10.0       6.503  \n",
       "18        1        1           1             20.0      12.624  \n",
       "19        1        1           1             30.0       4.180  "
      ]
     },
     "execution_count": 4,
     "metadata": {},
     "output_type": "execute_result"
    }
   ],
   "source": [
    "df.head(20)"
   ]
  },
  {
   "cell_type": "markdown",
   "metadata": {},
   "source": [
    "# we view the information and summary of the dataset"
   ]
  },
  {
   "cell_type": "code",
   "execution_count": 6,
   "metadata": {},
   "outputs": [
    {
     "name": "stdout",
     "output_type": "stream",
     "text": [
      "<class 'pandas.core.frame.DataFrame'>\n",
      "RangeIndex: 6082 entries, 0 to 6081\n",
      "Data columns (total 11 columns):\n",
      "Crop                 6082 non-null object\n",
      "Sampling date        6082 non-null datetime64[ns]\n",
      "Plot No.             6082 non-null int64\n",
      "Irrigation Status    6082 non-null object\n",
      "Treatments           6082 non-null object\n",
      "Trmt No.             6082 non-null int64\n",
      "Tillage              6082 non-null int64\n",
      "Residue              6082 non-null int64\n",
      "Irrigation           6082 non-null int64\n",
      "Soil depth (cm)      6058 non-null float64\n",
      "Ece (dS/m)           6082 non-null float64\n",
      "dtypes: datetime64[ns](1), float64(2), int64(5), object(3)\n",
      "memory usage: 522.8+ KB\n"
     ]
    }
   ],
   "source": [
    "df.info()"
   ]
  },
  {
   "cell_type": "code",
   "execution_count": 15,
   "metadata": {},
   "outputs": [],
   "source": [
    "df=df.dropna()"
   ]
  },
  {
   "cell_type": "code",
   "execution_count": 4,
   "metadata": {},
   "outputs": [
    {
     "data": {
      "text/plain": [
       "Index(['Crop ', 'Sampling date', 'Plot No.', 'Irrigation Status', 'Treatments',\n",
       "       'Trmt No.', 'Tillage', 'Residue', 'Irrigation', 'Soil depth (cm)',\n",
       "       'Ece (dS/m)'],\n",
       "      dtype='object')"
      ]
     },
     "execution_count": 4,
     "metadata": {},
     "output_type": "execute_result"
    }
   ],
   "source": [
    "df.columns"
   ]
  },
  {
   "cell_type": "code",
   "execution_count": 1,
   "metadata": {},
   "outputs": [],
   "source": [
    "import numpy as np"
   ]
  },
  {
   "cell_type": "markdown",
   "metadata": {},
   "source": [
    "# we slice only the columns of dataset which contains continous values"
   ]
  },
  {
   "cell_type": "code",
   "execution_count": 6,
   "metadata": {
    "collapsed": true
   },
   "outputs": [
    {
     "data": {
      "text/html": [
       "<div>\n",
       "<style scoped>\n",
       "    .dataframe tbody tr th:only-of-type {\n",
       "        vertical-align: middle;\n",
       "    }\n",
       "\n",
       "    .dataframe tbody tr th {\n",
       "        vertical-align: top;\n",
       "    }\n",
       "\n",
       "    .dataframe thead th {\n",
       "        text-align: right;\n",
       "    }\n",
       "</style>\n",
       "<table border=\"1\" class=\"dataframe\">\n",
       "  <thead>\n",
       "    <tr style=\"text-align: right;\">\n",
       "      <th></th>\n",
       "      <th>Soil depth (cm)</th>\n",
       "      <th>Ece (dS/m)</th>\n",
       "    </tr>\n",
       "  </thead>\n",
       "  <tbody>\n",
       "    <tr>\n",
       "      <td>0</td>\n",
       "      <td>10.0</td>\n",
       "      <td>4.483</td>\n",
       "    </tr>\n",
       "    <tr>\n",
       "      <td>1</td>\n",
       "      <td>10.0</td>\n",
       "      <td>3.554</td>\n",
       "    </tr>\n",
       "    <tr>\n",
       "      <td>2</td>\n",
       "      <td>20.0</td>\n",
       "      <td>1.837</td>\n",
       "    </tr>\n",
       "    <tr>\n",
       "      <td>3</td>\n",
       "      <td>30.0</td>\n",
       "      <td>1.433</td>\n",
       "    </tr>\n",
       "    <tr>\n",
       "      <td>4</td>\n",
       "      <td>50.0</td>\n",
       "      <td>1.574</td>\n",
       "    </tr>\n",
       "    <tr>\n",
       "      <td>...</td>\n",
       "      <td>...</td>\n",
       "      <td>...</td>\n",
       "    </tr>\n",
       "    <tr>\n",
       "      <td>6077</td>\n",
       "      <td>10.0</td>\n",
       "      <td>0.968</td>\n",
       "    </tr>\n",
       "    <tr>\n",
       "      <td>6078</td>\n",
       "      <td>20.0</td>\n",
       "      <td>0.685</td>\n",
       "    </tr>\n",
       "    <tr>\n",
       "      <td>6079</td>\n",
       "      <td>30.0</td>\n",
       "      <td>0.605</td>\n",
       "    </tr>\n",
       "    <tr>\n",
       "      <td>6080</td>\n",
       "      <td>50.0</td>\n",
       "      <td>0.625</td>\n",
       "    </tr>\n",
       "    <tr>\n",
       "      <td>6081</td>\n",
       "      <td>80.0</td>\n",
       "      <td>0.564</td>\n",
       "    </tr>\n",
       "  </tbody>\n",
       "</table>\n",
       "<p>6082 rows × 2 columns</p>\n",
       "</div>"
      ],
      "text/plain": [
       "      Soil depth (cm)  Ece (dS/m)\n",
       "0                10.0       4.483\n",
       "1                10.0       3.554\n",
       "2                20.0       1.837\n",
       "3                30.0       1.433\n",
       "4                50.0       1.574\n",
       "...               ...         ...\n",
       "6077             10.0       0.968\n",
       "6078             20.0       0.685\n",
       "6079             30.0       0.605\n",
       "6080             50.0       0.625\n",
       "6081             80.0       0.564\n",
       "\n",
       "[6082 rows x 2 columns]"
      ]
     },
     "execution_count": 6,
     "metadata": {},
     "output_type": "execute_result"
    }
   ],
   "source": [
    "(df.loc[:,['Soil depth (cm)','Ece (dS/m)']])"
   ]
  },
  {
   "cell_type": "markdown",
   "metadata": {},
   "source": [
    "# we find the maximum values of the columns"
   ]
  },
  {
   "cell_type": "code",
   "execution_count": 30,
   "metadata": {},
   "outputs": [],
   "source": [
    "minimum=np.amax((df.loc[:,['Soil depth (cm)','Ece (dS/m)']]),axis=0)"
   ]
  },
  {
   "cell_type": "markdown",
   "metadata": {},
   "source": [
    "# we find the minimum values of the columns"
   ]
  },
  {
   "cell_type": "code",
   "execution_count": 31,
   "metadata": {},
   "outputs": [],
   "source": [
    "maximum=np.amin((df.loc[:,['Soil depth (cm)','Ece (dS/m)']]),axis=0)"
   ]
  },
  {
   "cell_type": "markdown",
   "metadata": {},
   "source": [
    "# we find the 25 percentile values of the columns"
   ]
  },
  {
   "cell_type": "code",
   "execution_count": 32,
   "metadata": {},
   "outputs": [],
   "source": [
    "lquartile=np.percentile((df.loc[:,['Soil depth (cm)','Ece (dS/m)']]),25,axis=0)"
   ]
  },
  {
   "cell_type": "markdown",
   "metadata": {},
   "source": [
    "# we find the 75 percentile values of the columns"
   ]
  },
  {
   "cell_type": "code",
   "execution_count": 33,
   "metadata": {},
   "outputs": [],
   "source": [
    "uquartile=np.percentile((df.loc[:,['Soil depth (cm)','Ece (dS/m)']]),75,axis=0)"
   ]
  },
  {
   "cell_type": "markdown",
   "metadata": {},
   "source": [
    "# we find the median values of the columns"
   ]
  },
  {
   "cell_type": "code",
   "execution_count": 34,
   "metadata": {},
   "outputs": [],
   "source": [
    "med=np.median((df.loc[:,['Soil depth (cm)','Ece (dS/m)']]),axis=0)"
   ]
  },
  {
   "cell_type": "markdown",
   "metadata": {},
   "source": [
    "# we find the mean values of the columns"
   ]
  },
  {
   "cell_type": "code",
   "execution_count": 35,
   "metadata": {},
   "outputs": [],
   "source": [
    "mean=np.mean((df.loc[:,['Soil depth (cm)','Ece (dS/m)']]),axis=0)"
   ]
  },
  {
   "cell_type": "code",
   "execution_count": 39,
   "metadata": {},
   "outputs": [],
   "source": [
    "minimum=(np.array(minimum)\n",
    "maximum=np.array(maximum)\n",
    "mean=np.array(mean)"
   ]
  },
  {
   "cell_type": "markdown",
   "metadata": {},
   "source": [
    "# we merge the values in a dictionary"
   ]
  },
  {
   "cell_type": "code",
   "execution_count": 43,
   "metadata": {},
   "outputs": [],
   "source": [
    "d=dict([('minimum',list(minimum)),('maximmum',list(maximum)),('median',list(med)),('25 percentile',list(lquartile)),('75 percentile',list(uquartile)),('mean',list(mean))])"
   ]
  },
  {
   "cell_type": "markdown",
   "metadata": {},
   "source": [
    "# we store and display the summary in a pandas dataframe"
   ]
  },
  {
   "cell_type": "code",
   "execution_count": 49,
   "metadata": {},
   "outputs": [],
   "source": [
    "summary=pd.DataFrame(d,index=['Soil depth(cm)','Ece (dS/m)'])"
   ]
  },
  {
   "cell_type": "code",
   "execution_count": 51,
   "metadata": {},
   "outputs": [
    {
     "data": {
      "text/html": [
       "<div>\n",
       "<style scoped>\n",
       "    .dataframe tbody tr th:only-of-type {\n",
       "        vertical-align: middle;\n",
       "    }\n",
       "\n",
       "    .dataframe tbody tr th {\n",
       "        vertical-align: top;\n",
       "    }\n",
       "\n",
       "    .dataframe thead th {\n",
       "        text-align: right;\n",
       "    }\n",
       "</style>\n",
       "<table border=\"1\" class=\"dataframe\">\n",
       "  <thead>\n",
       "    <tr style=\"text-align: right;\">\n",
       "      <th></th>\n",
       "      <th>minimum</th>\n",
       "      <th>maximmum</th>\n",
       "      <th>median</th>\n",
       "      <th>25 percentile</th>\n",
       "      <th>75 percentile</th>\n",
       "      <th>mean</th>\n",
       "    </tr>\n",
       "  </thead>\n",
       "  <tbody>\n",
       "    <tr>\n",
       "      <td>Soil depth(cm)</td>\n",
       "      <td>80.000</td>\n",
       "      <td>10.000</td>\n",
       "      <td>30.000</td>\n",
       "      <td>10.000</td>\n",
       "      <td>50.000</td>\n",
       "      <td>32.783097</td>\n",
       "    </tr>\n",
       "    <tr>\n",
       "      <td>Ece (dS/m)</td>\n",
       "      <td>16.542</td>\n",
       "      <td>0.342</td>\n",
       "      <td>1.231</td>\n",
       "      <td>0.908</td>\n",
       "      <td>1.736</td>\n",
       "      <td>1.600548</td>\n",
       "    </tr>\n",
       "  </tbody>\n",
       "</table>\n",
       "</div>"
      ],
      "text/plain": [
       "                minimum  maximmum  median  25 percentile  75 percentile  \\\n",
       "Soil depth(cm)   80.000    10.000  30.000         10.000         50.000   \n",
       "Ece (dS/m)       16.542     0.342   1.231          0.908          1.736   \n",
       "\n",
       "                     mean  \n",
       "Soil depth(cm)  32.783097  \n",
       "Ece (dS/m)       1.600548  "
      ]
     },
     "execution_count": 51,
     "metadata": {},
     "output_type": "execute_result"
    }
   ],
   "source": [
    "summary"
   ]
  },
  {
   "cell_type": "code",
   "execution_count": null,
   "metadata": {},
   "outputs": [],
   "source": []
  }
 ],
 "metadata": {
  "kernelspec": {
   "display_name": "Python 3",
   "language": "python",
   "name": "python3"
  },
  "language_info": {
   "codemirror_mode": {
    "name": "ipython",
    "version": 3
   },
   "file_extension": ".py",
   "mimetype": "text/x-python",
   "name": "python",
   "nbconvert_exporter": "python",
   "pygments_lexer": "ipython3",
   "version": "3.7.4"
  }
 },
 "nbformat": 4,
 "nbformat_minor": 2
}
